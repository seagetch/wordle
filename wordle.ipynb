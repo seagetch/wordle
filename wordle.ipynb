{
 "cells": [
  {
   "cell_type": "markdown",
   "id": "1a261bd3-d8cb-4ff1-82fb-f31180e5dbc8",
   "metadata": {},
   "source": [
    "# Environment setup\n",
    "Please execute once to download the word list."
   ]
  },
  {
   "cell_type": "code",
   "execution_count": 4,
   "id": "f05923fb-cc65-4606-8bb4-d8e9c6915b1a",
   "metadata": {},
   "outputs": [
    {
     "name": "stdout",
     "output_type": "stream",
     "text": [
      "--2022-02-02 18:47:52--  https://gist.githubusercontent.com/cfreshman/cdcdf777450c5b5301e439061d29694c/raw/de1df631b45492e0974f7affe266ec36fed736eb/wordle-allowed-guesses.txt\n",
      "gist.githubusercontent.com (gist.githubusercontent.com) をDNSに問いあわせています... 185.199.111.133, 185.199.108.133, 185.199.110.133, ...\n",
      "gist.githubusercontent.com (gist.githubusercontent.com)|185.199.111.133|:443 に接続しています... 接続しました。\n",
      "HTTP による接続要求を送信しました、応答を待っています... 200 OK\n",
      "長さ: 63941 (62K) [text/plain]\n",
      "`wordle-allowed-guesses.txt' に保存中\n",
      "\n",
      "wordle-allowed-gues 100%[===================>]  62.44K  --.-KB/s    in 0.01s   \n",
      "\n",
      "2022-02-02 18:47:52 (6.30 MB/s) - `wordle-allowed-guesses.txt' へ保存完了 [63941/63941]\n",
      "\n"
     ]
    }
   ],
   "source": [
    "#!wget https://gist.githubusercontent.com/cfreshman/a03ef2cba789d8cf00c08f767e0fad7b/raw/5d752e5f0702da315298a6bb5a771586d6ff445c/wordle-answers-alphabetical.txt\n",
    "#!wget https://gist.githubusercontent.com/cfreshman/cdcdf777450c5b5301e439061d29694c/raw/de1df631b45492e0974f7affe266ec36fed736eb/wordle-allowed-guesses.txt"
   ]
  },
  {
   "cell_type": "markdown",
   "id": "b1b02ad9-b705-482c-9016-ba3f0340b70c",
   "metadata": {},
   "source": [
    "## Installing required modules"
   ]
  },
  {
   "cell_type": "code",
   "execution_count": 25,
   "id": "1da2ae0a-1477-4349-9dbd-ab597b55915e",
   "metadata": {},
   "outputs": [],
   "source": [
    "#conda install -y tqdm"
   ]
  },
  {
   "cell_type": "markdown",
   "id": "cea46e7a-7cd1-47b4-ad7c-e4cd55753ce6",
   "metadata": {},
   "source": [
    "# Module Imports"
   ]
  },
  {
   "cell_type": "code",
   "execution_count": 900,
   "id": "0013572a-2c3a-478a-81b4-433b573fe1b0",
   "metadata": {},
   "outputs": [],
   "source": [
    "import tqdm.notebook as tqdm\n",
    "from copy import copy\n",
    "import random\n",
    "from IPython.display import HTML\n",
    "import sys"
   ]
  },
  {
   "cell_type": "markdown",
   "id": "307a9197-e148-4f68-8241-7a83e397215d",
   "metadata": {},
   "source": [
    "# Loading word list"
   ]
  },
  {
   "cell_type": "code",
   "execution_count": 177,
   "id": "9dbbb102-8586-4a2b-8bde-ee87a9ba0f07",
   "metadata": {},
   "outputs": [],
   "source": [
    "answers = open(\"wordle-answers-alphabetical.txt\", \"r\").read().split(\"\\n\")\n",
    "guess   = open(\"wordle-allowed-guesses.txt\", \"r\").read().split(\"\\n\")"
   ]
  },
  {
   "cell_type": "code",
   "execution_count": 939,
   "id": "868d7568-6955-4bfd-aee8-84fef0ea6959",
   "metadata": {},
   "outputs": [],
   "source": [
    "MATCH_1 =  3\n",
    "APPEAR_1 = 2\n",
    "NEWCHR_1 = 4\n",
    "MATCH_2 =  5\n",
    "APPEAR_2 = 2\n",
    "NEWCHR_2 = 1\n",
    "def score(word, answers, matched=[\"-\"] * 5, appeared=\"\", discarded =\"\"):\n",
    "    word = word.lower()\n",
    "    s = 0\n",
    "    found = len([s for s in matched if s != \"-\"]) >= 4\n",
    "    found = found or len([c for c in word if c in appeared]) == 5\n",
    "    for i, c in enumerate(word):\n",
    "        c = c.lower()\n",
    "        for ans in answers:\n",
    "            if ans[i] == c:\n",
    "                s += MATCH_1 if not found else MATCH_2\n",
    "            elif c in ans:\n",
    "                s += APPEAR_1 if not found else APPEAR_2\n",
    "            if c not in appeared and c not in discarded and c not in word[0:i]:\n",
    "                s += NEWCHR_1 if not found else NEWCHR_2\n",
    "    return s"
   ]
  },
  {
   "cell_type": "code",
   "execution_count": 940,
   "id": "c25eb16f-9f47-49d4-9565-b672f0c48ace",
   "metadata": {},
   "outputs": [],
   "source": [
    "def check_match(word, answer):\n",
    "    matched = [\"-\"] * 5\n",
    "    appeared = \"\"\n",
    "    discarded = \"\"\n",
    "    for i, a, b in zip(range(5), word, answer):\n",
    "        if a == b:\n",
    "            matched[i] = a.lower()\n",
    "    for c in word:\n",
    "        if c in answer:\n",
    "            appeared += c.lower()\n",
    "        else:\n",
    "            discarded += c.lower()\n",
    "    return matched, appeared, discarded"
   ]
  },
  {
   "cell_type": "code",
   "execution_count": 941,
   "id": "0e319ed3-82c8-4de8-9545-0f10449a06d0",
   "metadata": {},
   "outputs": [],
   "source": [
    "def guessing(trial, guess, matched, appeared, discarded):\n",
    "    guess2 = []\n",
    "    for ans in guess:\n",
    "        rejected = False\n",
    "        for p in range(len(matched)):\n",
    "            if matched[p] != \"-\" and ans[p] != matched[p]:\n",
    "                rejected = True\n",
    "                break\n",
    "        if not rejected:\n",
    "            for c in appeared:\n",
    "                if c not in ans:\n",
    "                    rejected = True\n",
    "                    break\n",
    "        if not rejected:\n",
    "            for c in discarded:\n",
    "                if c in ans:\n",
    "                    rejected = True\n",
    "                    break\n",
    "        if not rejected:\n",
    "            guess2.append(ans)    \n",
    "    \n",
    "    scores = [score(word, answers, matched, appeared) for word in tqdm.tqdm(guess2)]\n",
    "    wordbag = [a for a in zip(guess2, scores)]\n",
    "    sorted_words=sorted(wordbag, key=lambda x: -x[1])\n",
    "    return sorted_words, guess2\n",
    "\n",
    "def merge(matched1, appeared1, discarded1, matched2, appeared2, discarded2):\n",
    "    matched = [\"-\"] * len(matched1)\n",
    "    for i in range(len(matched1)):\n",
    "        if matched1[i] != \"-\":\n",
    "            matched[i] = matched1[i].lower()\n",
    "        elif matched2[i] != \"-\":\n",
    "            matched[i] = matched2[i].lower()\n",
    "    appeared = set(appeared1) | set(appeared2)\n",
    "    discarded = set(discarded1) | set(discarded2)\n",
    "    return matched, appeared, discarded\n",
    "\n",
    "def meet(word, matched, appeared, discarded):\n",
    "    word = word.lower()\n",
    "    html = \"\"    \n",
    "    def block(color, c):\n",
    "        return \"<span style='display: inline-block; text-align: center; color:#ffffff; font-weight: 700; margin: 2px; width: 24px; height: 24px; background:%s'>%s</span>\"%(color, c.upper())\n",
    "    for i, c in enumerate(word):\n",
    "        if matched[i] == c:\n",
    "            html += block(\"#00aa00\", c)\n",
    "        elif c in appeared:\n",
    "            html += block(\"#aaaa00\", c)\n",
    "        else:\n",
    "            html += block(\"#888888\", c)\n",
    "    display(HTML(\"<div>%s</div>\"%html))\n",
    "\n",
    "    for i in range(len(matched)):\n",
    "        if matched[i] == \"-\":\n",
    "            return False\n",
    "    return True"
   ]
  },
  {
   "cell_type": "markdown",
   "id": "0c8f165c-98e4-4487-a1af-d189113b492f",
   "metadata": {},
   "source": [
    "# Extracting words of first step."
   ]
  },
  {
   "cell_type": "code",
   "execution_count": 942,
   "id": "8c14ad0e-3436-49f6-ac11-95c98a042cb7",
   "metadata": {},
   "outputs": [
    {
     "data": {
      "application/vnd.jupyter.widget-view+json": {
       "model_id": "f1281111414e4acc849490255bdf2a5b",
       "version_major": 2,
       "version_minor": 0
      },
      "text/plain": [
       "  0%|          | 0/2315 [00:00<?, ?it/s]"
      ]
     },
     "metadata": {},
     "output_type": "display_data"
    }
   ],
   "source": [
    "matched = [\"-\"]*5\n",
    "appeared = \"\"\n",
    "discarded = \"\"\n",
    "guess2 = answers.copy()\n",
    "first_words, first_guess = guessing(0, guess2, matched, appeared, discarded)\n",
    "first_words = first_words"
   ]
  },
  {
   "cell_type": "markdown",
   "id": "40639794-108a-4d0a-aaed-f642becc3dda",
   "metadata": {},
   "source": [
    "# Auto solver"
   ]
  },
  {
   "cell_type": "code",
   "execution_count": 951,
   "id": "bca3dd24-8d9c-4c92-b7f0-eb533954749c",
   "metadata": {},
   "outputs": [],
   "source": [
    "policy = \"best\" # best or random"
   ]
  },
  {
   "cell_type": "markdown",
   "id": "4cc81fb4-8f33-4c5a-8ec6-54d11a42143a",
   "metadata": {},
   "source": [
    "## Answer detemination"
   ]
  },
  {
   "cell_type": "code",
   "execution_count": 952,
   "id": "57bf4dce-150b-46c5-a0ea-60326d97420b",
   "metadata": {},
   "outputs": [
    {
     "data": {
      "text/html": [
       "<h3 style='color: red'>word is 'MODEM'</h3>"
      ],
      "text/plain": [
       "<IPython.core.display.HTML object>"
      ]
     },
     "metadata": {},
     "output_type": "display_data"
    }
   ],
   "source": [
    "answer = random.choice(answers)\n",
    "display(HTML(\"<h3 style='color: red'>word is '%s'</h3>\"%answer.upper()))"
   ]
  },
  {
   "cell_type": "code",
   "execution_count": 953,
   "id": "7203d09a-4f99-445e-8701-d0a259c145dc",
   "metadata": {},
   "outputs": [
    {
     "name": "stdout",
     "output_type": "stream",
     "text": [
      "Trial #1: \n",
      "Result of first guess is pre-calcurated. skipped.\n"
     ]
    },
    {
     "data": {
      "text/html": [
       "<div><span style='display: inline-block; text-align: center; color:#ffffff; font-weight: 700; margin: 2px; width: 24px; height: 24px; background:#888888'>S</span><span style='display: inline-block; text-align: center; color:#ffffff; font-weight: 700; margin: 2px; width: 24px; height: 24px; background:#888888'>T</span><span style='display: inline-block; text-align: center; color:#ffffff; font-weight: 700; margin: 2px; width: 24px; height: 24px; background:#888888'>A</span><span style='display: inline-block; text-align: center; color:#ffffff; font-weight: 700; margin: 2px; width: 24px; height: 24px; background:#888888'>R</span><span style='display: inline-block; text-align: center; color:#ffffff; font-weight: 700; margin: 2px; width: 24px; height: 24px; background:#aaaa00'>E</span></div>"
      ],
      "text/plain": [
       "<IPython.core.display.HTML object>"
      ]
     },
     "metadata": {},
     "output_type": "display_data"
    },
    {
     "name": "stdout",
     "output_type": "stream",
     "text": [
      "candidates : ['stare', 'arose', 'raise', 'arise', 'irate']\n",
      "Trial #2: \n"
     ]
    },
    {
     "data": {
      "application/vnd.jupyter.widget-view+json": {
       "model_id": "f1212cbdd5714af1a9ec2945f628910c",
       "version_major": 2,
       "version_minor": 0
      },
      "text/plain": [
       "  0%|          | 0/203 [00:00<?, ?it/s]"
      ]
     },
     "metadata": {},
     "output_type": "display_data"
    },
    {
     "data": {
      "text/html": [
       "<div><span style='display: inline-block; text-align: center; color:#ffffff; font-weight: 700; margin: 2px; width: 24px; height: 24px; background:#888888'>C</span><span style='display: inline-block; text-align: center; color:#ffffff; font-weight: 700; margin: 2px; width: 24px; height: 24px; background:#888888'>L</span><span style='display: inline-block; text-align: center; color:#ffffff; font-weight: 700; margin: 2px; width: 24px; height: 24px; background:#aaaa00'>O</span><span style='display: inline-block; text-align: center; color:#ffffff; font-weight: 700; margin: 2px; width: 24px; height: 24px; background:#888888'>N</span><span style='display: inline-block; text-align: center; color:#ffffff; font-weight: 700; margin: 2px; width: 24px; height: 24px; background:#aaaa00'>E</span></div>"
      ],
      "text/plain": [
       "<IPython.core.display.HTML object>"
      ]
     },
     "metadata": {},
     "output_type": "display_data"
    },
    {
     "name": "stdout",
     "output_type": "stream",
     "text": [
      "candidates : ['clone', 'opine', 'boule', 'guile', 'olden']\n",
      "Trial #3: \n"
     ]
    },
    {
     "data": {
      "application/vnd.jupyter.widget-view+json": {
       "model_id": "67ce21a61c374f0a89bcfb67cc8b1762",
       "version_major": 2,
       "version_minor": 0
      },
      "text/plain": [
       "  0%|          | 0/14 [00:00<?, ?it/s]"
      ]
     },
     "metadata": {},
     "output_type": "display_data"
    },
    {
     "data": {
      "text/html": [
       "<div><span style='display: inline-block; text-align: center; color:#ffffff; font-weight: 700; margin: 2px; width: 24px; height: 24px; background:#888888'>B</span><span style='display: inline-block; text-align: center; color:#ffffff; font-weight: 700; margin: 2px; width: 24px; height: 24px; background:#888888'>I</span><span style='display: inline-block; text-align: center; color:#ffffff; font-weight: 700; margin: 2px; width: 24px; height: 24px; background:#aaaa00'>O</span><span style='display: inline-block; text-align: center; color:#ffffff; font-weight: 700; margin: 2px; width: 24px; height: 24px; background:#aaaa00'>M</span><span style='display: inline-block; text-align: center; color:#ffffff; font-weight: 700; margin: 2px; width: 24px; height: 24px; background:#aaaa00'>E</span></div>"
      ],
      "text/plain": [
       "<IPython.core.display.HTML object>"
      ]
     },
     "metadata": {},
     "output_type": "display_data"
    },
    {
     "name": "stdout",
     "output_type": "stream",
     "text": [
      "candidates : ['biome', 'dopey', 'movie', 'video', 'oxide']\n",
      "Trial #4: \n"
     ]
    },
    {
     "data": {
      "application/vnd.jupyter.widget-view+json": {
       "model_id": "8f0d1594055641769e6cfb3a4fab1cd9",
       "version_major": 2,
       "version_minor": 0
      },
      "text/plain": [
       "  0%|          | 0/1 [00:00<?, ?it/s]"
      ]
     },
     "metadata": {},
     "output_type": "display_data"
    },
    {
     "data": {
      "text/html": [
       "<div><span style='display: inline-block; text-align: center; color:#ffffff; font-weight: 700; margin: 2px; width: 24px; height: 24px; background:#00aa00'>M</span><span style='display: inline-block; text-align: center; color:#ffffff; font-weight: 700; margin: 2px; width: 24px; height: 24px; background:#00aa00'>O</span><span style='display: inline-block; text-align: center; color:#ffffff; font-weight: 700; margin: 2px; width: 24px; height: 24px; background:#00aa00'>D</span><span style='display: inline-block; text-align: center; color:#ffffff; font-weight: 700; margin: 2px; width: 24px; height: 24px; background:#00aa00'>E</span><span style='display: inline-block; text-align: center; color:#ffffff; font-weight: 700; margin: 2px; width: 24px; height: 24px; background:#00aa00'>M</span></div>"
      ],
      "text/plain": [
       "<IPython.core.display.HTML object>"
      ]
     },
     "metadata": {},
     "output_type": "display_data"
    }
   ],
   "source": [
    "matched = [\"-\"]*5\n",
    "appeared = \"\"\n",
    "discarded = \"\"\n",
    "#guess2 = answers.copy()\n",
    "sorted_words = first_words\n",
    "guess2 = first_guess.copy()\n",
    "\n",
    "if policy not in [\"best\", \"random\"]:\n",
    "    print(\"Bad policy '%s'\"%policy)\n",
    "    sys.exit(1)\n",
    "\n",
    "for trial in range(6):\n",
    "    print(\"Trial #%d: \"%(trial+1))\n",
    "    if not sorted_words:\n",
    "        sorted_words, guess2 = guessing(trial, guess2, matched, appeared, discarded)\n",
    "    else:\n",
    "        print(\"Result of first guess is pre-calcurated. skipped.\")\n",
    "\n",
    "    choice = None\n",
    "    \n",
    "    if policy == \"best\":\n",
    "        choice = sorted_words[0][0]\n",
    "    elif policy == \"random\":\n",
    "        choice = random.choice(sorted_words)[0]\n",
    "    \n",
    "    matched2, appeared2, discarded2 = check_match(choice, answer)\n",
    "\n",
    "    guess2.remove(choice)\n",
    "\n",
    "    if meet(choice, matched2, appeared2, discarded2):\n",
    "        break\n",
    "    \n",
    "    matched, appeared, discarded = merge(matched, appeared, discarded, matched2, appeared2, discarded2)\n",
    "    print(\"candidates :\", [s[0] for s in sorted_words[:5]])\n",
    "#    print(\"Trial count %d: \"%(trial+1), sorted_words[0][0], matched, appeared, discarded)\n",
    "    sorted_words=None"
   ]
  },
  {
   "cell_type": "markdown",
   "id": "5899ed9a-e56d-4f1b-a99d-03eed595e322",
   "metadata": {},
   "source": [
    "# Manual Trial"
   ]
  },
  {
   "cell_type": "code",
   "execution_count": 755,
   "id": "93282f09-874d-4310-b7ca-6d8c2ba0bcb6",
   "metadata": {},
   "outputs": [],
   "source": [
    "matched = [\"-\"]*5\n",
    "appeared = \"\"\n",
    "discarded = \"\"\n",
    "#guess2 = answers.copy()\n",
    "sorted_words = first_words\n",
    "guess2 = first_guess.copy()"
   ]
  },
  {
   "cell_type": "markdown",
   "id": "69c50a96-ef05-4f18-ab9e-a774a9da5cec",
   "metadata": {},
   "source": [
    "## Trial loop"
   ]
  },
  {
   "cell_type": "code",
   "execution_count": 614,
   "id": "8e19e296-9f6d-41ce-9e9c-7bf69693c582",
   "metadata": {},
   "outputs": [
    {
     "data": {
      "application/vnd.jupyter.widget-view+json": {
       "model_id": "abc448bfc19a4205bf5d663700f289cb",
       "version_major": 2,
       "version_minor": 0
      },
      "text/plain": [
       "  0%|          | 0/5 [00:00<?, ?it/s]"
      ]
     },
     "metadata": {},
     "output_type": "display_data"
    },
    {
     "data": {
      "text/plain": [
       "[('shard', 53613),\n",
       " ('sharp', 53503),\n",
       " ('shark', 53272),\n",
       " ('spark', 53123),\n",
       " ('swarm', 52923)]"
      ]
     },
     "execution_count": 614,
     "metadata": {},
     "output_type": "execute_result"
    }
   ],
   "source": [
    "if not sorted_words:\n",
    "    sorted_words, guess2 = guessing(trial, guess2, matched, appeared, discarded)\n",
    "\n",
    "sorted_words[:5]"
   ]
  },
  {
   "cell_type": "code",
   "execution_count": 612,
   "id": "5102179b-65b7-4f5a-bb8d-f78a91b7cc51",
   "metadata": {},
   "outputs": [
    {
     "data": {
      "text/html": [
       "<div><span style='display: inline-block; text-align: center; color:#ffffff; font-weight: 700; margin: 2px; width: 24px; height: 24px; background:#00aa00'>S</span><span style='display: inline-block; text-align: center; color:#ffffff; font-weight: 700; margin: 2px; width: 24px; height: 24px; background:#888888'>C</span><span style='display: inline-block; text-align: center; color:#ffffff; font-weight: 700; margin: 2px; width: 24px; height: 24px; background:#00aa00'>A</span><span style='display: inline-block; text-align: center; color:#ffffff; font-weight: 700; margin: 2px; width: 24px; height: 24px; background:#00aa00'>R</span><span style='display: inline-block; text-align: center; color:#ffffff; font-weight: 700; margin: 2px; width: 24px; height: 24px; background:#888888'>Y</span></div>"
      ],
      "text/plain": [
       "<IPython.core.display.HTML object>"
      ]
     },
     "metadata": {},
     "output_type": "display_data"
    },
    {
     "data": {
      "text/plain": [
       "False"
      ]
     },
     "execution_count": 612,
     "metadata": {},
     "output_type": "execute_result"
    }
   ],
   "source": [
    "# Input result\n",
    "matched2 = [\"\",\"\",\"\",\"\",\"\"]\n",
    "appeared2 = \"\"\n",
    "discarded2 = \"\"\n",
    "meet(sorted_words[0][0], matched2, appeared2, discarded2)"
   ]
  },
  {
   "cell_type": "code",
   "execution_count": 613,
   "id": "87b28743-c698-4753-a84d-df573c6722b7",
   "metadata": {},
   "outputs": [
    {
     "name": "stdout",
     "output_type": "stream",
     "text": [
      "scary ['s', '-', 'a', 'r', '-'] set() {'l', 't', 'y', 'n', 'e', 'c'}\n"
     ]
    }
   ],
   "source": [
    "guess2.remove(sorted_words[0][0])\n",
    "matched, appeared, discarded = merge(matched, appeared, discarded, matched2, appeared2, discarded2)\n",
    "print(sorted_words[0][0], matched, appeared, discarded)\n",
    "sorted_words = None"
   ]
  },
  {
   "cell_type": "code",
   "execution_count": null,
   "id": "233f5175-ed36-4cab-853b-a4c4235a5c31",
   "metadata": {},
   "outputs": [],
   "source": []
  }
 ],
 "metadata": {
  "kernelspec": {
   "display_name": "Python [conda env:jupyterkernel-general]",
   "language": "python",
   "name": "conda-env-jupyterkernel-general-py"
  },
  "language_info": {
   "codemirror_mode": {
    "name": "ipython",
    "version": 3
   },
   "file_extension": ".py",
   "mimetype": "text/x-python",
   "name": "python",
   "nbconvert_exporter": "python",
   "pygments_lexer": "ipython3",
   "version": "3.9.5"
  }
 },
 "nbformat": 4,
 "nbformat_minor": 5
}
