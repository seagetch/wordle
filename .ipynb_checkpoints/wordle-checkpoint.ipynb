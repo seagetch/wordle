{
 "cells": [
  {
   "cell_type": "markdown",
   "id": "b1b02ad9-b705-482c-9016-ba3f0340b70c",
   "metadata": {},
   "source": [
    "## Installing required modules\n",
    "required:\n",
    "- tqdm: used to show progress bar.\n",
    "- ipyevents: to handle HTML event for interactive operations.\n",
    "  - You must install JupyterLab extensions for ipyevents,too. (required to rebuild jupyterlab environment to take effect.)"
   ]
  },
  {
   "cell_type": "code",
   "execution_count": 137,
   "id": "1da2ae0a-1477-4349-9dbd-ab597b55915e",
   "metadata": {},
   "outputs": [],
   "source": [
    "#!conda install -y tqdm\n",
    "#!conda install -y -c conda-forge ipyevents"
   ]
  },
  {
   "cell_type": "markdown",
   "id": "cea46e7a-7cd1-47b4-ad7c-e4cd55753ce6",
   "metadata": {},
   "source": [
    "# Module Imports"
   ]
  },
  {
   "cell_type": "code",
   "execution_count": 138,
   "id": "0013572a-2c3a-478a-81b4-433b573fe1b0",
   "metadata": {},
   "outputs": [],
   "source": [
    "import tqdm.notebook as tqdm\n",
    "from copy import copy\n",
    "import random\n",
    "from ipywidgets import widgets,interact\n",
    "import ipywidgets\n",
    "import IPython.display as idisplay\n",
    "from ipyevents import Event \n",
    "import os\n",
    "import sys"
   ]
  },
  {
   "cell_type": "markdown",
   "id": "1a261bd3-d8cb-4ff1-82fb-f31180e5dbc8",
   "metadata": {},
   "source": [
    "# Environment setup\n",
    "Please execute once to download the word list."
   ]
  },
  {
   "cell_type": "code",
   "execution_count": 139,
   "id": "f05923fb-cc65-4606-8bb4-d8e9c6915b1a",
   "metadata": {},
   "outputs": [],
   "source": [
    "if not os.path.exists(\"wordle-answers-alphabetical.txt\"):\n",
    "    !wget https://gist.githubusercontent.com/cfreshman/a03ef2cba789d8cf00c08f767e0fad7b/raw/5d752e5f0702da315298a6bb5a771586d6ff445c/wordle-answers-alphabetical.txt\n",
    "if not os.path.exists(\"wordle-allowed-guesses.txt\"):\n",
    "    !wget https://gist.githubusercontent.com/cfreshman/cdcdf777450c5b5301e439061d29694c/raw/de1df631b45492e0974f7affe266ec36fed736eb/wordle-allowed-guesses.txt"
   ]
  },
  {
   "cell_type": "markdown",
   "id": "307a9197-e148-4f68-8241-7a83e397215d",
   "metadata": {},
   "source": [
    "# Loading word list"
   ]
  },
  {
   "cell_type": "code",
   "execution_count": 140,
   "id": "9dbbb102-8586-4a2b-8bde-ee87a9ba0f07",
   "metadata": {},
   "outputs": [],
   "source": [
    "answers = open(\"wordle-answers-alphabetical.txt\", \"r\").read().split(\"\\n\")\n",
    "guesses = open(\"wordle-allowed-guesses.txt\", \"r\").read().split(\"\\n\")"
   ]
  },
  {
   "cell_type": "markdown",
   "id": "52b09768-b212-41b4-aa48-3f59e887c368",
   "metadata": {},
   "source": [
    "# Function for scoring word"
   ]
  },
  {
   "cell_type": "code",
   "execution_count": 141,
   "id": "868d7568-6955-4bfd-aee8-84fef0ea6959",
   "metadata": {},
   "outputs": [],
   "source": [
    "MATCH_1 =  3\n",
    "APPEAR_1 = 2\n",
    "NEWCHR_1 = 4\n",
    "MATCH_2 =  5\n",
    "APPEAR_2 = 2\n",
    "NEWCHR_2 = 1\n",
    "def score(word, answers, matched=[\"-\"] * 5, appeared=\"\", discarded =\"\"):\n",
    "    word = word.lower()\n",
    "    s = 0\n",
    "    found = len([s for s in matched if s != \"-\"]) >= 4\n",
    "    found = found or len([c for c in word if c in appeared]) == 5\n",
    "    for i, c in enumerate(word):\n",
    "        c = c.lower()\n",
    "        for ans in answers:\n",
    "            if ans[i] == c:\n",
    "                s += MATCH_1 if not found else MATCH_2\n",
    "            elif c in ans:\n",
    "                s += APPEAR_1 if not found else APPEAR_2\n",
    "            if c not in appeared and c not in discarded and c not in word[0:i]:\n",
    "                s += NEWCHR_1 if not found else NEWCHR_2\n",
    "    return s"
   ]
  },
  {
   "cell_type": "markdown",
   "id": "e688871e-7d21-4e60-84c0-753f2cbaad99",
   "metadata": {},
   "source": [
    "# Function to filter constraints and sort word by score"
   ]
  },
  {
   "cell_type": "code",
   "execution_count": 142,
   "id": "c25eb16f-9f47-49d4-9565-b672f0c48ace",
   "metadata": {},
   "outputs": [],
   "source": [
    "def extract(guess, matched, appeared, discarded):\n",
    "    guess2 = []\n",
    "    for ans in guess:\n",
    "        rejected = False\n",
    "        for p in range(len(matched)):\n",
    "            if matched[p] != \"-\" and ans[p] != matched[p]:\n",
    "                rejected = True\n",
    "                break\n",
    "        if not rejected:\n",
    "            for c in appeared:\n",
    "                if c not in ans:\n",
    "                    rejected = True\n",
    "                    break\n",
    "        if not rejected:\n",
    "            for c in discarded:\n",
    "                if c in ans:\n",
    "                    rejected = True\n",
    "                    break\n",
    "        if not rejected:\n",
    "            guess2.append(ans)\n",
    "    return guess2\n",
    "\n",
    "def guessing(trial, guess, matched, appeared, discarded):\n",
    "    guess2 = extract(guess, matched, appeared, discarded)    \n",
    "    scores = [score(word, answers, matched, appeared) for word in tqdm.tqdm(guess2)]\n",
    "    wordbag = [a for a in zip(guess2, scores)]\n",
    "    sorted_words=sorted(wordbag, key=lambda x: -x[1])\n",
    "    return sorted_words, guess2"
   ]
  },
  {
   "cell_type": "markdown",
   "id": "89e12bb7-e0e1-47a2-80a5-d895662464bd",
   "metadata": {},
   "source": [
    "# Functions to define game rules"
   ]
  },
  {
   "cell_type": "code",
   "execution_count": 143,
   "id": "0e319ed3-82c8-4de8-9545-0f10449a06d0",
   "metadata": {},
   "outputs": [],
   "source": [
    "def check_match(word, answer):\n",
    "    matched = [\"-\"] * 5\n",
    "    appeared = \"\"\n",
    "    discarded = \"\"\n",
    "    for i, a, b in zip(range(5), word, answer):\n",
    "        if a == b:\n",
    "            matched[i] = a.lower()\n",
    "    for c in word:\n",
    "        if c in answer:\n",
    "            appeared += c.lower()\n",
    "        else:\n",
    "            discarded += c.lower()\n",
    "    return matched, appeared, discarded\n",
    "\n",
    "def merge(matched1, appeared1, discarded1, matched2, appeared2, discarded2):\n",
    "    matched = [\"-\"] * len(matched1)\n",
    "    for i in range(len(matched1)):\n",
    "        if matched1[i] != \"-\":\n",
    "            matched[i] = matched1[i].lower()\n",
    "        elif matched2[i] != \"-\":\n",
    "            matched[i] = matched2[i].lower()\n",
    "    appeared = set(appeared1) | set(appeared2)\n",
    "    discarded = set(discarded1) | set(discarded2)\n",
    "    return matched, appeared, discarded\n",
    "\n",
    "def chr_block(color, c, i, prefix=\"\", event=\"\"):\n",
    "    return \"\"\"<span id='match-%s-%d' \n",
    "      style='display: inline-block; \n",
    "      text-align: center; \n",
    "      color:#ffffff; \n",
    "      font-weight: 700; \n",
    "      margin: 2px; \n",
    "      width: 24px; height: 24px; \n",
    "      background:%s' %s>\n",
    "%s\n",
    "</span>\"\"\"%(prefix, i, color, event, c.upper())\n",
    "\n",
    "\n",
    "\n",
    "def meet(word, matched, appeared, discarded):\n",
    "    word = word.lower()\n",
    "    html = \"\"\n",
    "    for i, c in enumerate(word):\n",
    "        if matched[i] == c:\n",
    "            html += chr_block(\"#00aa00\", c, i)\n",
    "        elif c in appeared:\n",
    "            html += chr_block(\"#aaaa00\", c, i)\n",
    "        else:\n",
    "            html += chr_block(\"#888888\", c, i)\n",
    "\n",
    "    for i in range(len(matched)):\n",
    "        if matched[i] == \"-\":\n",
    "            return False, html\n",
    "    return True, html"
   ]
  },
  {
   "cell_type": "markdown",
   "id": "0c8f165c-98e4-4487-a1af-d189113b492f",
   "metadata": {},
   "source": [
    "# Extracting words of first step."
   ]
  },
  {
   "cell_type": "code",
   "execution_count": 144,
   "id": "8c14ad0e-3436-49f6-ac11-95c98a042cb7",
   "metadata": {},
   "outputs": [
    {
     "data": {
      "application/vnd.jupyter.widget-view+json": {
       "model_id": "bcdaa974f50c4ab9ab206a11b7a88bc1",
       "version_major": 2,
       "version_minor": 0
      },
      "text/plain": [
       "  0%|          | 0/2315 [00:00<?, ?it/s]"
      ]
     },
     "metadata": {},
     "output_type": "display_data"
    }
   ],
   "source": [
    "matched = [\"-\"]*5\n",
    "appeared = \"\"\n",
    "discarded = \"\"\n",
    "guess2 = answers.copy()\n",
    "first_words, first_guess = guessing(0, guess2, matched, appeared, discarded)\n",
    "first_words = first_words"
   ]
  },
  {
   "cell_type": "markdown",
   "id": "40639794-108a-4d0a-aaed-f642becc3dda",
   "metadata": {},
   "source": [
    "# Auto solver"
   ]
  },
  {
   "cell_type": "code",
   "execution_count": 145,
   "id": "bca3dd24-8d9c-4c92-b7f0-eb533954749c",
   "metadata": {},
   "outputs": [],
   "source": [
    "policy = \"best\" # best, rank or random"
   ]
  },
  {
   "cell_type": "markdown",
   "id": "4cc81fb4-8f33-4c5a-8ec6-54d11a42143a",
   "metadata": {},
   "source": [
    "## Answer detemination"
   ]
  },
  {
   "cell_type": "code",
   "execution_count": 147,
   "id": "57bf4dce-150b-46c5-a0ea-60326d97420b",
   "metadata": {},
   "outputs": [
    {
     "data": {
      "text/html": [
       "<h3 style='color: red'>word is 'FISHY'</h3>"
      ],
      "text/plain": [
       "<IPython.core.display.HTML object>"
      ]
     },
     "metadata": {},
     "output_type": "display_data"
    }
   ],
   "source": [
    "answer = random.choice(answers)\n",
    "display(idisplay.HTML(\"<h3 style='color: red'>word is '%s'</h3>\"%answer.upper()))"
   ]
  },
  {
   "cell_type": "code",
   "execution_count": 148,
   "id": "7203d09a-4f99-445e-8701-d0a259c145dc",
   "metadata": {},
   "outputs": [
    {
     "name": "stdout",
     "output_type": "stream",
     "text": [
      "Trial #1: \n",
      "Result of first guess is pre-calcurated. skipped.\n",
      "candidates : ['stare', 'arose', 'raise', 'arise', 'irate', 'saner', 'snare', 'later', 'slate', 'alter']\n"
     ]
    },
    {
     "data": {
      "text/html": [
       "<div><span id='match--0' \n",
       "      style='display: inline-block; \n",
       "      text-align: center; \n",
       "      color:#ffffff; \n",
       "      font-weight: 700; \n",
       "      margin: 2px; \n",
       "      width: 24px; height: 24px; \n",
       "      background:#aaaa00' >\n",
       "S\n",
       "</span><span id='match--1' \n",
       "      style='display: inline-block; \n",
       "      text-align: center; \n",
       "      color:#ffffff; \n",
       "      font-weight: 700; \n",
       "      margin: 2px; \n",
       "      width: 24px; height: 24px; \n",
       "      background:#888888' >\n",
       "T\n",
       "</span><span id='match--2' \n",
       "      style='display: inline-block; \n",
       "      text-align: center; \n",
       "      color:#ffffff; \n",
       "      font-weight: 700; \n",
       "      margin: 2px; \n",
       "      width: 24px; height: 24px; \n",
       "      background:#888888' >\n",
       "A\n",
       "</span><span id='match--3' \n",
       "      style='display: inline-block; \n",
       "      text-align: center; \n",
       "      color:#ffffff; \n",
       "      font-weight: 700; \n",
       "      margin: 2px; \n",
       "      width: 24px; height: 24px; \n",
       "      background:#888888' >\n",
       "R\n",
       "</span><span id='match--4' \n",
       "      style='display: inline-block; \n",
       "      text-align: center; \n",
       "      color:#ffffff; \n",
       "      font-weight: 700; \n",
       "      margin: 2px; \n",
       "      width: 24px; height: 24px; \n",
       "      background:#888888' >\n",
       "E\n",
       "</span></div>"
      ],
      "text/plain": [
       "<IPython.core.display.HTML object>"
      ]
     },
     "metadata": {},
     "output_type": "display_data"
    },
    {
     "name": "stdout",
     "output_type": "stream",
     "text": [
      "Trial #2: \n"
     ]
    },
    {
     "data": {
      "application/vnd.jupyter.widget-view+json": {
       "model_id": "5b907494b0b3431fba862d035cf8a170",
       "version_major": 2,
       "version_minor": 0
      },
      "text/plain": [
       "  0%|          | 0/105 [00:00<?, ?it/s]"
      ]
     },
     "metadata": {},
     "output_type": "display_data"
    },
    {
     "name": "stdout",
     "output_type": "stream",
     "text": [
      "candidates : ['solid', 'noisy', 'spoil', 'sonic', 'scion', 'lousy', 'sling', 'shiny', 'slimy', 'slink']\n"
     ]
    },
    {
     "data": {
      "text/html": [
       "<div><span id='match--0' \n",
       "      style='display: inline-block; \n",
       "      text-align: center; \n",
       "      color:#ffffff; \n",
       "      font-weight: 700; \n",
       "      margin: 2px; \n",
       "      width: 24px; height: 24px; \n",
       "      background:#aaaa00' >\n",
       "S\n",
       "</span><span id='match--1' \n",
       "      style='display: inline-block; \n",
       "      text-align: center; \n",
       "      color:#ffffff; \n",
       "      font-weight: 700; \n",
       "      margin: 2px; \n",
       "      width: 24px; height: 24px; \n",
       "      background:#888888' >\n",
       "O\n",
       "</span><span id='match--2' \n",
       "      style='display: inline-block; \n",
       "      text-align: center; \n",
       "      color:#ffffff; \n",
       "      font-weight: 700; \n",
       "      margin: 2px; \n",
       "      width: 24px; height: 24px; \n",
       "      background:#888888' >\n",
       "L\n",
       "</span><span id='match--3' \n",
       "      style='display: inline-block; \n",
       "      text-align: center; \n",
       "      color:#ffffff; \n",
       "      font-weight: 700; \n",
       "      margin: 2px; \n",
       "      width: 24px; height: 24px; \n",
       "      background:#aaaa00' >\n",
       "I\n",
       "</span><span id='match--4' \n",
       "      style='display: inline-block; \n",
       "      text-align: center; \n",
       "      color:#ffffff; \n",
       "      font-weight: 700; \n",
       "      margin: 2px; \n",
       "      width: 24px; height: 24px; \n",
       "      background:#888888' >\n",
       "D\n",
       "</span></div>"
      ],
      "text/plain": [
       "<IPython.core.display.HTML object>"
      ]
     },
     "metadata": {},
     "output_type": "display_data"
    },
    {
     "name": "stdout",
     "output_type": "stream",
     "text": [
      "Trial #3: \n"
     ]
    },
    {
     "data": {
      "application/vnd.jupyter.widget-view+json": {
       "model_id": "e721e06f2eb6450cb7cf6af2739e2849",
       "version_major": 2,
       "version_minor": 0
      },
      "text/plain": [
       "  0%|          | 0/22 [00:00<?, ?it/s]"
      ]
     },
     "metadata": {},
     "output_type": "display_data"
    },
    {
     "name": "stdout",
     "output_type": "stream",
     "text": [
      "candidates : ['shiny', 'spiny', 'suing', 'spicy', 'minus', 'using', 'spiky', 'gipsy', 'swing', 'music']\n"
     ]
    },
    {
     "data": {
      "text/html": [
       "<div><span id='match--0' \n",
       "      style='display: inline-block; \n",
       "      text-align: center; \n",
       "      color:#ffffff; \n",
       "      font-weight: 700; \n",
       "      margin: 2px; \n",
       "      width: 24px; height: 24px; \n",
       "      background:#aaaa00' >\n",
       "S\n",
       "</span><span id='match--1' \n",
       "      style='display: inline-block; \n",
       "      text-align: center; \n",
       "      color:#ffffff; \n",
       "      font-weight: 700; \n",
       "      margin: 2px; \n",
       "      width: 24px; height: 24px; \n",
       "      background:#aaaa00' >\n",
       "H\n",
       "</span><span id='match--2' \n",
       "      style='display: inline-block; \n",
       "      text-align: center; \n",
       "      color:#ffffff; \n",
       "      font-weight: 700; \n",
       "      margin: 2px; \n",
       "      width: 24px; height: 24px; \n",
       "      background:#aaaa00' >\n",
       "I\n",
       "</span><span id='match--3' \n",
       "      style='display: inline-block; \n",
       "      text-align: center; \n",
       "      color:#ffffff; \n",
       "      font-weight: 700; \n",
       "      margin: 2px; \n",
       "      width: 24px; height: 24px; \n",
       "      background:#888888' >\n",
       "N\n",
       "</span><span id='match--4' \n",
       "      style='display: inline-block; \n",
       "      text-align: center; \n",
       "      color:#ffffff; \n",
       "      font-weight: 700; \n",
       "      margin: 2px; \n",
       "      width: 24px; height: 24px; \n",
       "      background:#00aa00' >\n",
       "Y\n",
       "</span></div>"
      ],
      "text/plain": [
       "<IPython.core.display.HTML object>"
      ]
     },
     "metadata": {},
     "output_type": "display_data"
    },
    {
     "name": "stdout",
     "output_type": "stream",
     "text": [
      "Trial #4: \n"
     ]
    },
    {
     "data": {
      "application/vnd.jupyter.widget-view+json": {
       "model_id": "650b049612d84a308e65ecaa66f91391",
       "version_major": 2,
       "version_minor": 0
      },
      "text/plain": [
       "  0%|          | 0/1 [00:00<?, ?it/s]"
      ]
     },
     "metadata": {},
     "output_type": "display_data"
    },
    {
     "name": "stdout",
     "output_type": "stream",
     "text": [
      "candidates : ['fishy']\n"
     ]
    },
    {
     "data": {
      "text/html": [
       "<div><span id='match--0' \n",
       "      style='display: inline-block; \n",
       "      text-align: center; \n",
       "      color:#ffffff; \n",
       "      font-weight: 700; \n",
       "      margin: 2px; \n",
       "      width: 24px; height: 24px; \n",
       "      background:#00aa00' >\n",
       "F\n",
       "</span><span id='match--1' \n",
       "      style='display: inline-block; \n",
       "      text-align: center; \n",
       "      color:#ffffff; \n",
       "      font-weight: 700; \n",
       "      margin: 2px; \n",
       "      width: 24px; height: 24px; \n",
       "      background:#00aa00' >\n",
       "I\n",
       "</span><span id='match--2' \n",
       "      style='display: inline-block; \n",
       "      text-align: center; \n",
       "      color:#ffffff; \n",
       "      font-weight: 700; \n",
       "      margin: 2px; \n",
       "      width: 24px; height: 24px; \n",
       "      background:#00aa00' >\n",
       "S\n",
       "</span><span id='match--3' \n",
       "      style='display: inline-block; \n",
       "      text-align: center; \n",
       "      color:#ffffff; \n",
       "      font-weight: 700; \n",
       "      margin: 2px; \n",
       "      width: 24px; height: 24px; \n",
       "      background:#00aa00' >\n",
       "H\n",
       "</span><span id='match--4' \n",
       "      style='display: inline-block; \n",
       "      text-align: center; \n",
       "      color:#ffffff; \n",
       "      font-weight: 700; \n",
       "      margin: 2px; \n",
       "      width: 24px; height: 24px; \n",
       "      background:#00aa00' >\n",
       "Y\n",
       "</span></div>"
      ],
      "text/plain": [
       "<IPython.core.display.HTML object>"
      ]
     },
     "metadata": {},
     "output_type": "display_data"
    }
   ],
   "source": [
    "matched = [\"-\"]*5\n",
    "appeared = \"\"\n",
    "discarded = \"\"\n",
    "#guess2 = answers.copy()\n",
    "sorted_words = first_words\n",
    "guess2 = first_guess.copy()\n",
    "\n",
    "if policy not in [\"best\", \"rank\", \"random\"]:\n",
    "    print(\"Bad policy '%s'\"%policy)\n",
    "    sys.exit(1)\n",
    "\n",
    "for trial in range(6):\n",
    "    print(\"Trial #%d: \"%(trial+1))\n",
    "    if not sorted_words:\n",
    "        sorted_words, guess2 = guessing(trial, guess2, matched, appeared, discarded)\n",
    "    else:\n",
    "        print(\"Result of first guess is pre-calcurated. skipped.\")\n",
    "\n",
    "    choice = None\n",
    "    \n",
    "    if policy == \"best\":\n",
    "        choice = sorted_words[0][0]\n",
    "    elif policy == \"random\":\n",
    "        choice = random.choice(sorted_words)[0]\n",
    "    elif policy == \"rank\":\n",
    "        portion = [10 / (i+1) for i in range(0, min(10, len(sorted_words)))]\n",
    "        rand_max = sum(portion)\n",
    "        value = random.random() * rand_max\n",
    "        index = 0\n",
    "        while value > 0:\n",
    "            if value <= portion[index]:\n",
    "                break\n",
    "            value -= portion[index]\n",
    "            index += 1\n",
    "        choice = sorted_words[index][0]\n",
    "        \n",
    "    \n",
    "    matched2, appeared2, discarded2 = check_match(choice, answer)\n",
    "\n",
    "    print(\"candidates :\", [s[0] for s in sorted_words[:10]])\n",
    "    guess2.remove(choice)\n",
    "\n",
    "    finished, html = meet(choice, matched2, appeared2, discarded2)\n",
    "    display(idisplay.HTML(\"<div>%s</div>\"%html))\n",
    "    if finished:\n",
    "        break\n",
    "    \n",
    "    matched, appeared, discarded = merge(matched, appeared, discarded, matched2, appeared2, discarded2)\n",
    "    sorted_words=None"
   ]
  },
  {
   "cell_type": "markdown",
   "id": "5899ed9a-e56d-4f1b-a99d-03eed595e322",
   "metadata": {},
   "source": [
    "# Manual Trial with official Wordle"
   ]
  },
  {
   "cell_type": "code",
   "execution_count": 149,
   "id": "93282f09-874d-4310-b7ca-6d8c2ba0bcb6",
   "metadata": {},
   "outputs": [],
   "source": [
    "def edit_block(c, i):\n",
    "    result = chr_block(\"#888888\", c, i, \"edit\")\n",
    "    return result\n",
    "\n",
    "def edit_block_script(c, i):\n",
    "    result = \"\"\"<script>\n",
    "    var div = document.getElementById(\"match-edit-%d\")\n",
    "    div.onclick = on_click_%d\n",
    "\n",
    "function on_click_%d(){\n",
    "    var div = document.getElementById(\"match-edit-%d\")\n",
    "    if (!div.state) {\n",
    "        div.style.backgroundColor = \"#00aa00\"\n",
    "        div.state = \"matched\"\n",
    "    } else if (div.state == \"matched\") {\n",
    "        div.style.backgroundColor = \"#aaaa00\"\n",
    "        div.state = \"appeared\"\n",
    "    } else if (div.state == \"appeared\") {\n",
    "        div.style.backgroundColor = \"#888888\"\n",
    "        div.state = null\n",
    "    }\n",
    "}\n",
    "    </script>\"\"\"%(i, i, i, i)\n",
    "    return result"
   ]
  },
  {
   "cell_type": "markdown",
   "id": "69c50a96-ef05-4f18-ab9e-a774a9da5cec",
   "metadata": {},
   "source": [
    "## Trial loop"
   ]
  },
  {
   "cell_type": "code",
   "execution_count": 164,
   "id": "5102179b-65b7-4f5a-bb8d-f78a91b7cc51",
   "metadata": {},
   "outputs": [
    {
     "data": {
      "application/vnd.jupyter.widget-view+json": {
       "model_id": "5127a8a724e44804b6925208734910fa",
       "version_major": 2,
       "version_minor": 0
      },
      "text/plain": [
       "Output(layout=Layout(border='1px solid #aaaaaa'))"
      ]
     },
     "metadata": {},
     "output_type": "display_data"
    },
    {
     "data": {
      "application/vnd.jupyter.widget-view+json": {
       "model_id": "dde26ed2be684f7a9c9efb10a16cf378",
       "version_major": 2,
       "version_minor": 0
      },
      "text/plain": [
       "Button(description='START', style=ButtonStyle())"
      ]
     },
     "metadata": {},
     "output_type": "display_data"
    }
   ],
   "source": [
    "matched = [\"-\"]*5\n",
    "appeared = \"\"\n",
    "discarded = \"\"\n",
    "#guess2 = answers.copy()\n",
    "sorted_words = first_words\n",
    "guess2 = first_guess.copy()\n",
    "\n",
    "if not sorted_words:\n",
    "    sorted_words, guess2 = guessing(trial, guess2, matched, appeared, discarded)\n",
    "\n",
    "# Input result shown by Wordle.\n",
    "\n",
    "matched2 = [\"-\"] * 5\n",
    "appeared2 = \"\"\n",
    "discarded2 = \"\"\n",
    "word = sorted_words[0][0]\n",
    "\n",
    "button = widgets.Button(description=\"START\")\n",
    "output = widgets.Output(layout={'border': '1px solid #aaaaaa'})\n",
    "display(output)\n",
    "\n",
    "trial = 0\n",
    "prev_word = None\n",
    "status = None\n",
    "reserved = []\n",
    "\n",
    "def on_click_chr(event):\n",
    "    global prev_word, matched2, appeared2, discarded2, status, trial\n",
    "    id = int(event[\"target\"][\"id\"].replace(\"match-edit-\",\"\"))\n",
    "    if id < len(prev_word) * (trial - 1):\n",
    "        return\n",
    "    id = id % len(prev_word)\n",
    "    c = prev_word[id].lower()\n",
    "    if status[id] == None:\n",
    "        status[id] = \"matched\"\n",
    "        matched2[id]=c\n",
    "        appeared2 = appeared2.replace(c,'')\n",
    "        discarded2 = discarded2.replace(c,'')\n",
    "    elif status[id] == \"matched\":\n",
    "        status[id] = \"appeared\"\n",
    "        matched2[id] = '-'\n",
    "        appeared2 += c\n",
    "        discarded2 = discarded2.replace(c,'')\n",
    "    elif status[id] == \"appeared\":\n",
    "        status[id] = \"discarded\"\n",
    "        matched2[id] = '-'\n",
    "        appeared2 = appeared2.replace(c, '')\n",
    "        discarded2 += c\n",
    "#        with output:\n",
    "#            print(\"matched=%s, appeared=%s, discarded=%s\"%(matched2, appeared2, discarded2))\n",
    "\n",
    "def clicked(button):\n",
    "    global prev_word, sorted_words, matched, appeared, discarded, guess2, trial, matched2,appeared2, discarded2, status\n",
    "    button.description = \"SUBMIT\"\n",
    "    \n",
    "    # Merge result of edit with overall matching constraints.\n",
    "    matched, appeared, discarded = merge(matched, appeared, discarded, matched2, appeared2, discarded2)\n",
    "\n",
    "    with output:\n",
    "        print(\"trial=%d\"%(trial+1))\n",
    "\n",
    "    # Select new word candidates under current constraints.\n",
    "    if not sorted_words:\n",
    "        sorted_words, guess2 = guessing(trial, guess2, matched, appeared, discarded)\n",
    "        \n",
    "    with output:\n",
    "        print(\"[candidates=%d], please click the character to input the result.\"%len(sorted_words))\n",
    "\n",
    "    # Overwrite selection word if reserved list exists \n",
    "    # (used when restarted the cell on the middle way of solving.)\n",
    "    if len(reserved) > trial:\n",
    "        prev_word = reserved[trial]\n",
    "    else:\n",
    "        prev_word = sorted_words[0][0]\n",
    "\n",
    "    # Display blocks to edit result.\n",
    "    html=\"\".join([edit_block(c, trial*5+i) for i, c in enumerate(sorted_words[0][0])])\n",
    "    display_html = ipywidgets.HTML(html)\n",
    "    \n",
    "    # Display control script\n",
    "    html=\"\".join([edit_block_script(c, trial*5+i) for i, c in enumerate(sorted_words[0][0])])\n",
    "    control_html = idisplay.HTML(html)\n",
    "\n",
    "    # Handle editing\n",
    "    d2 = Event(source=display_html, watched_events=['click'])\n",
    "\n",
    "    status = [None] * len(word)\n",
    "    matched2 = [\"-\"] * len(word)\n",
    "    appeared2 = \"\"\n",
    "    discarded2 = prev_word\n",
    "    if sorted_words[0][0] in guess2:\n",
    "        guess2.remove(sorted_words[0][0])\n",
    "    sorted_words = None\n",
    "\n",
    "    d2.on_dom_event(on_click_chr)\n",
    "    \n",
    "    with output:\n",
    "        display(display_html)\n",
    "        display(control_html)\n",
    "        \n",
    "        # Display script to turn off event handler of previous word.\n",
    "        delete_prev = idisplay.HTML(\"\"\"<script>{\n",
    "        var id = %d\n",
    "        if (id >= 0)\n",
    "            for (i = 0; i <5; i ++)\n",
    "                document.getElementById(\"match-edit-\"+(5*id+i)).onclick = \"\"\n",
    "    }</script>\"\"\"%(trial-1))\n",
    "        display(delete_prev)\n",
    "        \n",
    "    # Increments trial count by one.\n",
    "    trial += 1\n",
    "\n",
    "button.on_click(clicked)\n",
    "display(button)\n",
    "\n"
   ]
  },
  {
   "cell_type": "markdown",
   "id": "e7f3a4a2-58a4-4c1c-a64a-6d9118248e74",
   "metadata": {},
   "source": [
    "# Play by yourself!!"
   ]
  },
  {
   "cell_type": "code",
   "execution_count": 155,
   "id": "fb0de9af-5d98-492d-aa9b-6f964f0fba0f",
   "metadata": {},
   "outputs": [
    {
     "data": {
      "application/vnd.jupyter.widget-view+json": {
       "model_id": "50d9347b7f174cc390c02ec42d06ab2c",
       "version_major": 2,
       "version_minor": 0
      },
      "text/plain": [
       "interactive(children=(Text(value='', description='Guess word.'), Output()), _dom_classes=('widget-interact',))"
      ]
     },
     "metadata": {},
     "output_type": "display_data"
    }
   ],
   "source": [
    "answer = random.choice(answers)\n",
    "\n",
    "matched = [\"-\"]*5\n",
    "appeared = \"\"\n",
    "discarded = \"\"\n",
    "\n",
    "total_html = \"\"\n",
    "trial = 0\n",
    "history = []\n",
    "input = widgets.Text(description=\"Guess word.\", width=200)\n",
    "\n",
    "def on_submit(word):\n",
    "    global matched, appeared, discarded, answer, answers, guesses, trial, total_html,history\n",
    "    if len(word) == 5:\n",
    "        word = word.lower()\n",
    "        if word in history:\n",
    "            return\n",
    "        history.append(word)\n",
    "        if word not in guesses and word not in answers:\n",
    "            valid = False\n",
    "            word = \"     \"\n",
    "        else:\n",
    "            valid = True\n",
    "            trial += 1\n",
    "        matched2, appeared2, discarded2 = check_match(word, answer)\n",
    "        finished, html = meet(word, matched2, appeared2, discarded2)\n",
    "        if valid:\n",
    "            total_html = \"%s<div>%d: %s</div>\"%(total_html, trial, html)\n",
    "            display(idisplay.HTML(total_html))\n",
    "        else:\n",
    "            this_html = \"<div>%d: %s</div>\"%(trial, html)\n",
    "            display(idisplay.HTML(total_html+this_html))\n",
    "        matched, appeared, discarded = merge(matched, appeared, discarded, matched2, appeared2, discarded2)\n",
    "        if finished:\n",
    "            print(\"Conguraturation!!\")\n",
    "            input.close()\n",
    "        elif trial == 6:\n",
    "            print(\"Answer is %s\"%answer.upper())\n",
    "            input.close()\n",
    "\n",
    "result = interact(on_submit, word=input)"
   ]
  },
  {
   "cell_type": "code",
   "execution_count": 72,
   "id": "bcb81139-b28a-4eba-a5cf-04606a6d25d0",
   "metadata": {},
   "outputs": [
    {
     "name": "stdout",
     "output_type": "stream",
     "text": [
      "[]\n"
     ]
    }
   ],
   "source": [
    "#Hint\n",
    "\n",
    "print(extract(guesses.copy() + answers.copy(), matched, appeared, discarded)[:400])"
   ]
  },
  {
   "cell_type": "code",
   "execution_count": null,
   "id": "797fa8d1-2dd1-48cc-b0c6-2d92b39c03f4",
   "metadata": {},
   "outputs": [],
   "source": []
  }
 ],
 "metadata": {
  "kernelspec": {
   "display_name": "Python [conda env:jupyterkernel-general]",
   "language": "python",
   "name": "conda-env-jupyterkernel-general-py"
  },
  "language_info": {
   "codemirror_mode": {
    "name": "ipython",
    "version": 3
   },
   "file_extension": ".py",
   "mimetype": "text/x-python",
   "name": "python",
   "nbconvert_exporter": "python",
   "pygments_lexer": "ipython3",
   "version": "3.9.5"
  }
 },
 "nbformat": 4,
 "nbformat_minor": 5
}
